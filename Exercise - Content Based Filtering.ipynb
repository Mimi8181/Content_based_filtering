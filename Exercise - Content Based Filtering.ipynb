{
 "cells": [
  {
   "cell_type": "code",
   "execution_count": 1,
   "id": "f42645a0",
   "metadata": {},
   "outputs": [],
   "source": [
    "import pandas as pd\n",
    "from sklearn.feature_extraction.text import CountVectorizer\n",
    "from nltk.tokenize import word_tokenize"
   ]
  },
  {
   "cell_type": "code",
   "execution_count": 2,
   "id": "ba4533f4",
   "metadata": {},
   "outputs": [
    {
     "data": {
      "text/html": [
       "<div>\n",
       "<style scoped>\n",
       "    .dataframe tbody tr th:only-of-type {\n",
       "        vertical-align: middle;\n",
       "    }\n",
       "\n",
       "    .dataframe tbody tr th {\n",
       "        vertical-align: top;\n",
       "    }\n",
       "\n",
       "    .dataframe thead th {\n",
       "        text-align: right;\n",
       "    }\n",
       "</style>\n",
       "<table border=\"1\" class=\"dataframe\">\n",
       "  <thead>\n",
       "    <tr style=\"text-align: right;\">\n",
       "      <th></th>\n",
       "      <th>title</th>\n",
       "      <th>overview</th>\n",
       "    </tr>\n",
       "  </thead>\n",
       "  <tbody>\n",
       "    <tr>\n",
       "      <th>0</th>\n",
       "      <td>Toy Story</td>\n",
       "      <td>Led by Woody, Andy's toys live happily in his ...</td>\n",
       "    </tr>\n",
       "    <tr>\n",
       "      <th>1</th>\n",
       "      <td>Jumanji</td>\n",
       "      <td>When siblings Judy and Peter discover an encha...</td>\n",
       "    </tr>\n",
       "    <tr>\n",
       "      <th>2</th>\n",
       "      <td>Grumpier Old Men</td>\n",
       "      <td>A family wedding reignites the ancient feud be...</td>\n",
       "    </tr>\n",
       "    <tr>\n",
       "      <th>3</th>\n",
       "      <td>Waiting to Exhale</td>\n",
       "      <td>Cheated on, mistreated and stepped on, the wom...</td>\n",
       "    </tr>\n",
       "    <tr>\n",
       "      <th>4</th>\n",
       "      <td>Father of the Bride Part II</td>\n",
       "      <td>Just when George Banks has recovered from his ...</td>\n",
       "    </tr>\n",
       "  </tbody>\n",
       "</table>\n",
       "</div>"
      ],
      "text/plain": [
       "                         title  \\\n",
       "0                    Toy Story   \n",
       "1                      Jumanji   \n",
       "2             Grumpier Old Men   \n",
       "3            Waiting to Exhale   \n",
       "4  Father of the Bride Part II   \n",
       "\n",
       "                                            overview  \n",
       "0  Led by Woody, Andy's toys live happily in his ...  \n",
       "1  When siblings Judy and Peter discover an encha...  \n",
       "2  A family wedding reignites the ancient feud be...  \n",
       "3  Cheated on, mistreated and stepped on, the wom...  \n",
       "4  Just when George Banks has recovered from his ...  "
      ]
     },
     "execution_count": 2,
     "metadata": {},
     "output_type": "execute_result"
    }
   ],
   "source": [
    "df = pd.read_csv('data/content_by_synopsis.csv')\n",
    "df.head()"
   ]
  },
  {
   "cell_type": "code",
   "execution_count": 3,
   "id": "fd8df5d0",
   "metadata": {},
   "outputs": [
    {
     "data": {
      "text/plain": [
       "<bound method Series.info of 0        Led by Woody, Andy's toys live happily in his ...\n",
       "1        When siblings Judy and Peter discover an encha...\n",
       "2        A family wedding reignites the ancient feud be...\n",
       "3        Cheated on, mistreated and stepped on, the wom...\n",
       "4        Just when George Banks has recovered from his ...\n",
       "                               ...                        \n",
       "41357    It's the year 3000 AD. The world's most danger...\n",
       "41358          Rising and falling between a man and woman.\n",
       "41359    An artist struggles to finish his work while a...\n",
       "41360    In a small town live two brothers, one a minis...\n",
       "41361    50 years after decriminalisation of homosexual...\n",
       "Name: overview, Length: 41362, dtype: object>"
      ]
     },
     "execution_count": 3,
     "metadata": {},
     "output_type": "execute_result"
    }
   ],
   "source": [
    "df.overview.info"
   ]
  },
  {
   "cell_type": "markdown",
   "id": "a9f026a8",
   "metadata": {},
   "source": [
    "## Encode All Synopsis to bank / menyimpan data  teks menjadi kode\n",
    "bank = kumpulan kata - kata penting dari setiap data"
   ]
  },
  {
   "cell_type": "code",
   "execution_count": 3,
   "id": "c6aa751e",
   "metadata": {},
   "outputs": [],
   "source": [
    "bow = CountVectorizer(stop_words='english', tokenizer=word_tokenize)\n",
    "bank = bow.fit_transform(df.overview)"
   ]
  },
  {
   "cell_type": "code",
   "execution_count": 4,
   "id": "381f8745",
   "metadata": {},
   "outputs": [
    {
     "data": {
      "text/plain": [
       "\"Led by Woody, Andy's toys live happily in his room until Andy's birthday brings Buzz Lightyear onto the scene. Afraid of losing his place in Andy's heart, Woody plots against Buzz. But when circumstances separate Buzz and Woody from their owner, the duo eventually learns to put aside their differences.\""
      ]
     },
     "execution_count": 4,
     "metadata": {},
     "output_type": "execute_result"
    }
   ],
   "source": [
    "idx = 0\n",
    "\n",
    "content = df.loc[idx, 'overview']\n",
    "content"
   ]
  },
  {
   "cell_type": "code",
   "execution_count": 5,
   "id": "37810f09",
   "metadata": {},
   "outputs": [
    {
     "data": {
      "text/plain": [
       "array([[0, 0, 0, ..., 0, 0, 0]], dtype=int64)"
      ]
     },
     "execution_count": 5,
     "metadata": {},
     "output_type": "execute_result"
    }
   ],
   "source": [
    "code = bow.transform([content])\n",
    "code.toarray()"
   ]
  },
  {
   "cell_type": "markdown",
   "id": "e6a530ff",
   "metadata": {},
   "source": [
    "## Mencari kesamaan dari teks yg ingin dibandingkan"
   ]
  },
  {
   "cell_type": "code",
   "execution_count": 6,
   "id": "68206b14",
   "metadata": {},
   "outputs": [],
   "source": [
    "from sklearn.metrics.pairwise import cosine_distances"
   ]
  },
  {
   "cell_type": "code",
   "execution_count": 7,
   "id": "2034e344",
   "metadata": {},
   "outputs": [
    {
     "data": {
      "text/plain": [
       "array([[0.        , 0.68698928, 0.70198022, ..., 0.88529213, 0.68931574,\n",
       "        0.75277431]])"
      ]
     },
     "execution_count": 7,
     "metadata": {},
     "output_type": "execute_result"
    }
   ],
   "source": [
    "dist = cosine_distances(code, bank)\n",
    "dist "
   ]
  },
  {
   "cell_type": "code",
   "execution_count": 8,
   "id": "4bd9b0d5",
   "metadata": {},
   "outputs": [
    {
     "data": {
      "text/plain": [
       "array([14706,  2945,  9984, 36827, 40606, 13404, 22084, 14078,  6172,\n",
       "       27006], dtype=int64)"
      ]
     },
     "execution_count": 8,
     "metadata": {},
     "output_type": "execute_result"
    }
   ],
   "source": [
    "rec_film = dist.argsort()[0, 1:11]\n",
    "rec_film"
   ]
  },
  {
   "cell_type": "markdown",
   "id": "b5af7bcd",
   "metadata": {},
   "source": [
    "## Rekomendasi "
   ]
  },
  {
   "cell_type": "code",
   "execution_count": 9,
   "id": "88e2071a",
   "metadata": {},
   "outputs": [
    {
     "data": {
      "text/html": [
       "<div>\n",
       "<style scoped>\n",
       "    .dataframe tbody tr th:only-of-type {\n",
       "        vertical-align: middle;\n",
       "    }\n",
       "\n",
       "    .dataframe tbody tr th {\n",
       "        vertical-align: top;\n",
       "    }\n",
       "\n",
       "    .dataframe thead th {\n",
       "        text-align: right;\n",
       "    }\n",
       "</style>\n",
       "<table border=\"1\" class=\"dataframe\">\n",
       "  <thead>\n",
       "    <tr style=\"text-align: right;\">\n",
       "      <th></th>\n",
       "      <th>title</th>\n",
       "      <th>overview</th>\n",
       "    </tr>\n",
       "  </thead>\n",
       "  <tbody>\n",
       "    <tr>\n",
       "      <th>14706</th>\n",
       "      <td>Toy Story 3</td>\n",
       "      <td>Woody, Buzz, and the rest of Andy's toys haven...</td>\n",
       "    </tr>\n",
       "    <tr>\n",
       "      <th>2945</th>\n",
       "      <td>Toy Story 2</td>\n",
       "      <td>Andy heads off to Cowboy Camp, leaving his toy...</td>\n",
       "    </tr>\n",
       "    <tr>\n",
       "      <th>9984</th>\n",
       "      <td>The 40 Year Old Virgin</td>\n",
       "      <td>Andy Stitzer has a pleasant life with a nice a...</td>\n",
       "    </tr>\n",
       "    <tr>\n",
       "      <th>36827</th>\n",
       "      <td>Wabash Avenue</td>\n",
       "      <td>Andy Clark discovers he was cheated out of a h...</td>\n",
       "    </tr>\n",
       "    <tr>\n",
       "      <th>40606</th>\n",
       "      <td>Stasis</td>\n",
       "      <td>After a night out of partying and left behind ...</td>\n",
       "    </tr>\n",
       "    <tr>\n",
       "      <th>13404</th>\n",
       "      <td>The Gang's All Here</td>\n",
       "      <td>Playboy Andy Mason, on leave from the army, ro...</td>\n",
       "    </tr>\n",
       "    <tr>\n",
       "      <th>22084</th>\n",
       "      <td>The Pied Piper</td>\n",
       "      <td>Greed, corruption, ignorance, and disease. Mid...</td>\n",
       "    </tr>\n",
       "    <tr>\n",
       "      <th>14078</th>\n",
       "      <td>A Matter of Dignity</td>\n",
       "      <td>During one of her parents many parties, Chloe ...</td>\n",
       "    </tr>\n",
       "    <tr>\n",
       "      <th>6172</th>\n",
       "      <td>The Courtship of Eddie's Father</td>\n",
       "      <td>The film that started the classic TV series. A...</td>\n",
       "    </tr>\n",
       "    <tr>\n",
       "      <th>27006</th>\n",
       "      <td>Superdome</td>\n",
       "      <td>It's Superbowl. And there's a lot of drama, on...</td>\n",
       "    </tr>\n",
       "  </tbody>\n",
       "</table>\n",
       "</div>"
      ],
      "text/plain": [
       "                                 title  \\\n",
       "14706                      Toy Story 3   \n",
       "2945                       Toy Story 2   \n",
       "9984            The 40 Year Old Virgin   \n",
       "36827                    Wabash Avenue   \n",
       "40606                           Stasis   \n",
       "13404              The Gang's All Here   \n",
       "22084                   The Pied Piper   \n",
       "14078              A Matter of Dignity   \n",
       "6172   The Courtship of Eddie's Father   \n",
       "27006                        Superdome   \n",
       "\n",
       "                                                overview  \n",
       "14706  Woody, Buzz, and the rest of Andy's toys haven...  \n",
       "2945   Andy heads off to Cowboy Camp, leaving his toy...  \n",
       "9984   Andy Stitzer has a pleasant life with a nice a...  \n",
       "36827  Andy Clark discovers he was cheated out of a h...  \n",
       "40606  After a night out of partying and left behind ...  \n",
       "13404  Playboy Andy Mason, on leave from the army, ro...  \n",
       "22084  Greed, corruption, ignorance, and disease. Mid...  \n",
       "14078  During one of her parents many parties, Chloe ...  \n",
       "6172   The film that started the classic TV series. A...  \n",
       "27006  It's Superbowl. And there's a lot of drama, on...  "
      ]
     },
     "execution_count": 9,
     "metadata": {},
     "output_type": "execute_result"
    }
   ],
   "source": [
    "df.loc[rec_film]"
   ]
  },
  {
   "cell_type": "markdown",
   "id": "7af09f7e",
   "metadata": {},
   "source": [
    "# Make a Class"
   ]
  },
  {
   "cell_type": "code",
   "execution_count": 14,
   "id": "7a29af38",
   "metadata": {},
   "outputs": [
    {
     "data": {
      "text/html": [
       "<div>\n",
       "<style scoped>\n",
       "    .dataframe tbody tr th:only-of-type {\n",
       "        vertical-align: middle;\n",
       "    }\n",
       "\n",
       "    .dataframe tbody tr th {\n",
       "        vertical-align: top;\n",
       "    }\n",
       "\n",
       "    .dataframe thead th {\n",
       "        text-align: right;\n",
       "    }\n",
       "</style>\n",
       "<table border=\"1\" class=\"dataframe\">\n",
       "  <thead>\n",
       "    <tr style=\"text-align: right;\">\n",
       "      <th></th>\n",
       "      <th>title</th>\n",
       "      <th>genres</th>\n",
       "      <th>cast</th>\n",
       "      <th>keywords</th>\n",
       "      <th>director</th>\n",
       "      <th>metadata</th>\n",
       "    </tr>\n",
       "  </thead>\n",
       "  <tbody>\n",
       "    <tr>\n",
       "      <th>0</th>\n",
       "      <td>Toy Story</td>\n",
       "      <td>animation comedy family</td>\n",
       "      <td>tom_hanks tim_allen don_rickles</td>\n",
       "      <td>jealousy toy boy</td>\n",
       "      <td>john_lasseter</td>\n",
       "      <td>animation comedy family tom_hanks tim_allen do...</td>\n",
       "    </tr>\n",
       "    <tr>\n",
       "      <th>1</th>\n",
       "      <td>Jumanji</td>\n",
       "      <td>adventure fantasy family</td>\n",
       "      <td>robin_williams jonathan_hyde kirsten_dunst</td>\n",
       "      <td>board_game disappearance based_on_children's_book</td>\n",
       "      <td>joe_johnston</td>\n",
       "      <td>adventure fantasy family robin_williams jonath...</td>\n",
       "    </tr>\n",
       "    <tr>\n",
       "      <th>2</th>\n",
       "      <td>Grumpier Old Men</td>\n",
       "      <td>romance comedy</td>\n",
       "      <td>walter_matthau jack_lemmon ann-margret</td>\n",
       "      <td>fishing best_friend duringcreditsstinger</td>\n",
       "      <td>howard_deutch</td>\n",
       "      <td>romance comedy walter_matthau jack_lemmon ann-...</td>\n",
       "    </tr>\n",
       "    <tr>\n",
       "      <th>3</th>\n",
       "      <td>Waiting to Exhale</td>\n",
       "      <td>comedy drama romance</td>\n",
       "      <td>whitney_houston angela_bassett loretta_devine</td>\n",
       "      <td>based_on_novel interracial_relationship single...</td>\n",
       "      <td>forest_whitaker</td>\n",
       "      <td>comedy drama romance whitney_houston angela_ba...</td>\n",
       "    </tr>\n",
       "    <tr>\n",
       "      <th>4</th>\n",
       "      <td>Father of the Bride Part II</td>\n",
       "      <td>comedy</td>\n",
       "      <td>steve_martin diane_keaton martin_short</td>\n",
       "      <td>baby midlife_crisis confidence</td>\n",
       "      <td>charles_shyer</td>\n",
       "      <td>comedy steve_martin diane_keaton martin_short ...</td>\n",
       "    </tr>\n",
       "  </tbody>\n",
       "</table>\n",
       "</div>"
      ],
      "text/plain": [
       "                         title                    genres  \\\n",
       "0                    Toy Story   animation comedy family   \n",
       "1                      Jumanji  adventure fantasy family   \n",
       "2             Grumpier Old Men            romance comedy   \n",
       "3            Waiting to Exhale      comedy drama romance   \n",
       "4  Father of the Bride Part II                    comedy   \n",
       "\n",
       "                                            cast  \\\n",
       "0                tom_hanks tim_allen don_rickles   \n",
       "1     robin_williams jonathan_hyde kirsten_dunst   \n",
       "2         walter_matthau jack_lemmon ann-margret   \n",
       "3  whitney_houston angela_bassett loretta_devine   \n",
       "4         steve_martin diane_keaton martin_short   \n",
       "\n",
       "                                            keywords         director  \\\n",
       "0                                   jealousy toy boy    john_lasseter   \n",
       "1  board_game disappearance based_on_children's_book     joe_johnston   \n",
       "2           fishing best_friend duringcreditsstinger    howard_deutch   \n",
       "3  based_on_novel interracial_relationship single...  forest_whitaker   \n",
       "4                     baby midlife_crisis confidence    charles_shyer   \n",
       "\n",
       "                                            metadata  \n",
       "0  animation comedy family tom_hanks tim_allen do...  \n",
       "1  adventure fantasy family robin_williams jonath...  \n",
       "2  romance comedy walter_matthau jack_lemmon ann-...  \n",
       "3  comedy drama romance whitney_houston angela_ba...  \n",
       "4  comedy steve_martin diane_keaton martin_short ...  "
      ]
     },
     "execution_count": 14,
     "metadata": {},
     "output_type": "execute_result"
    }
   ],
   "source": [
    "df = pd.read_csv('data/content_by_multiple.csv')\n",
    "df.head()"
   ]
  },
  {
   "cell_type": "code",
   "execution_count": 15,
   "id": "a8487d5a",
   "metadata": {},
   "outputs": [],
   "source": [
    "class RecommendSystem:\n",
    "    def __init__(self, data, content_col):\n",
    "        self.df = df = pd.read_csv(data)\n",
    "        self.content_col = content_col\n",
    "        self.encoder = None\n",
    "        self.bank = None\n",
    "    \n",
    "    def fit(self):\n",
    "        self.encoder = CountVectorizer(stop_words='english', tokenizer=word_tokenize)\n",
    "        self.bank = self.encoder.fit_transform(self.df[self.content_col])\n",
    "        \n",
    "    def recommend(self, idx, topk=10):\n",
    "        content = df.loc[idx, self.content_col]\n",
    "        code = self.encoder.transform([content])\n",
    "        dist = cosine_distances(code, self.bank)\n",
    "        rec_film = dist.argsort()[0, 1:(topk + 1)]\n",
    "        return self.df.loc[rec_film]"
   ]
  },
  {
   "cell_type": "code",
   "execution_count": 16,
   "id": "1c81c486",
   "metadata": {},
   "outputs": [],
   "source": [
    "recsys = RecommendSystem('data/content_by_multiple.csv', content_col='metadata')\n",
    "recsys.fit()"
   ]
  },
  {
   "cell_type": "code",
   "execution_count": 17,
   "id": "dc9669e2",
   "metadata": {},
   "outputs": [
    {
     "data": {
      "text/html": [
       "<div>\n",
       "<style scoped>\n",
       "    .dataframe tbody tr th:only-of-type {\n",
       "        vertical-align: middle;\n",
       "    }\n",
       "\n",
       "    .dataframe tbody tr th {\n",
       "        vertical-align: top;\n",
       "    }\n",
       "\n",
       "    .dataframe thead th {\n",
       "        text-align: right;\n",
       "    }\n",
       "</style>\n",
       "<table border=\"1\" class=\"dataframe\">\n",
       "  <thead>\n",
       "    <tr style=\"text-align: right;\">\n",
       "      <th></th>\n",
       "      <th>title</th>\n",
       "      <th>genres</th>\n",
       "      <th>cast</th>\n",
       "      <th>keywords</th>\n",
       "      <th>director</th>\n",
       "      <th>metadata</th>\n",
       "    </tr>\n",
       "  </thead>\n",
       "  <tbody>\n",
       "    <tr>\n",
       "      <th>41600</th>\n",
       "      <td>The Kingdom of Fairies</td>\n",
       "      <td>adventure fantasy</td>\n",
       "      <td>NaN</td>\n",
       "      <td>NaN</td>\n",
       "      <td>NaN</td>\n",
       "      <td>adventure fantasy</td>\n",
       "    </tr>\n",
       "    <tr>\n",
       "      <th>28394</th>\n",
       "      <td>The Rain Fairy</td>\n",
       "      <td>family fantasy</td>\n",
       "      <td>NaN</td>\n",
       "      <td>NaN</td>\n",
       "      <td>NaN</td>\n",
       "      <td>family fantasy</td>\n",
       "    </tr>\n",
       "    <tr>\n",
       "      <th>39899</th>\n",
       "      <td>Tainá: An Amazon Adventure</td>\n",
       "      <td>family fantasy adventure</td>\n",
       "      <td>NaN</td>\n",
       "      <td>comedy</td>\n",
       "      <td>kahane_cooperman</td>\n",
       "      <td>family fantasy adventure  comedy kahane_cooperman</td>\n",
       "    </tr>\n",
       "    <tr>\n",
       "      <th>552</th>\n",
       "      <td>The Pagemaster</td>\n",
       "      <td>fantasy science_fiction family</td>\n",
       "      <td>macaulay_culkin christopher_lloyd patrick_stewart</td>\n",
       "      <td>library adventure part_animated</td>\n",
       "      <td>joe_johnston</td>\n",
       "      <td>fantasy science_fiction family macaulay_culkin...</td>\n",
       "    </tr>\n",
       "    <tr>\n",
       "      <th>40803</th>\n",
       "      <td>Princess Goldilocks</td>\n",
       "      <td>adventure family fantasy</td>\n",
       "      <td>charlie_durkin</td>\n",
       "      <td>woman_director</td>\n",
       "      <td>callie_t._wiser</td>\n",
       "      <td>adventure family fantasy charlie_durkin woman_...</td>\n",
       "    </tr>\n",
       "    <tr>\n",
       "      <th>14070</th>\n",
       "      <td>Playmobil: The Secret of Pirate Island</td>\n",
       "      <td>action adventure family</td>\n",
       "      <td>lee_tockar caitlin_williams</td>\n",
       "      <td>fantasy adventure cartoon</td>\n",
       "      <td>alexander_e._sokoloff</td>\n",
       "      <td>action adventure family lee_tockar caitlin_wil...</td>\n",
       "    </tr>\n",
       "    <tr>\n",
       "      <th>15781</th>\n",
       "      <td>Cirque du Soleil: Varekai</td>\n",
       "      <td>drama family fantasy</td>\n",
       "      <td>NaN</td>\n",
       "      <td>NaN</td>\n",
       "      <td>NaN</td>\n",
       "      <td>drama family fantasy</td>\n",
       "    </tr>\n",
       "    <tr>\n",
       "      <th>21579</th>\n",
       "      <td>The Young and Prodigious T.S. Spivet</td>\n",
       "      <td>adventure drama family</td>\n",
       "      <td>NaN</td>\n",
       "      <td>NaN</td>\n",
       "      <td>NaN</td>\n",
       "      <td>adventure drama family</td>\n",
       "    </tr>\n",
       "    <tr>\n",
       "      <th>12560</th>\n",
       "      <td>City of Ember</td>\n",
       "      <td>adventure family fantasy</td>\n",
       "      <td>saoirse_ronan harry_treadaway mary_kay_place</td>\n",
       "      <td>underground_world mayor adventure</td>\n",
       "      <td>gil_kenan</td>\n",
       "      <td>adventure family fantasy saoirse_ronan harry_t...</td>\n",
       "    </tr>\n",
       "    <tr>\n",
       "      <th>17504</th>\n",
       "      <td>G.I. Joe: The Revenge of Cobra</td>\n",
       "      <td>family fantasy action</td>\n",
       "      <td>NaN</td>\n",
       "      <td>NaN</td>\n",
       "      <td>NaN</td>\n",
       "      <td>family fantasy action</td>\n",
       "    </tr>\n",
       "  </tbody>\n",
       "</table>\n",
       "</div>"
      ],
      "text/plain": [
       "                                        title                          genres  \\\n",
       "41600                  The Kingdom of Fairies               adventure fantasy   \n",
       "28394                          The Rain Fairy                  family fantasy   \n",
       "39899              Tainá: An Amazon Adventure        family fantasy adventure   \n",
       "552                            The Pagemaster  fantasy science_fiction family   \n",
       "40803                     Princess Goldilocks        adventure family fantasy   \n",
       "14070  Playmobil: The Secret of Pirate Island         action adventure family   \n",
       "15781               Cirque du Soleil: Varekai            drama family fantasy   \n",
       "21579    The Young and Prodigious T.S. Spivet          adventure drama family   \n",
       "12560                           City of Ember        adventure family fantasy   \n",
       "17504          G.I. Joe: The Revenge of Cobra           family fantasy action   \n",
       "\n",
       "                                                    cast  \\\n",
       "41600                                                NaN   \n",
       "28394                                                NaN   \n",
       "39899                                                NaN   \n",
       "552    macaulay_culkin christopher_lloyd patrick_stewart   \n",
       "40803                                     charlie_durkin   \n",
       "14070                        lee_tockar caitlin_williams   \n",
       "15781                                                NaN   \n",
       "21579                                                NaN   \n",
       "12560       saoirse_ronan harry_treadaway mary_kay_place   \n",
       "17504                                                NaN   \n",
       "\n",
       "                                keywords               director  \\\n",
       "41600                                NaN                    NaN   \n",
       "28394                                NaN                    NaN   \n",
       "39899                             comedy       kahane_cooperman   \n",
       "552      library adventure part_animated           joe_johnston   \n",
       "40803                     woman_director        callie_t._wiser   \n",
       "14070          fantasy adventure cartoon  alexander_e._sokoloff   \n",
       "15781                                NaN                    NaN   \n",
       "21579                                NaN                    NaN   \n",
       "12560  underground_world mayor adventure              gil_kenan   \n",
       "17504                                NaN                    NaN   \n",
       "\n",
       "                                                metadata  \n",
       "41600                               adventure fantasy     \n",
       "28394                                  family fantasy     \n",
       "39899  family fantasy adventure  comedy kahane_cooperman  \n",
       "552    fantasy science_fiction family macaulay_culkin...  \n",
       "40803  adventure family fantasy charlie_durkin woman_...  \n",
       "14070  action adventure family lee_tockar caitlin_wil...  \n",
       "15781                            drama family fantasy     \n",
       "21579                          adventure drama family     \n",
       "12560  adventure family fantasy saoirse_ronan harry_t...  \n",
       "17504                           family fantasy action     "
      ]
     },
     "execution_count": 17,
     "metadata": {},
     "output_type": "execute_result"
    }
   ],
   "source": [
    "recsys.recommend(1)"
   ]
  },
  {
   "cell_type": "code",
   "execution_count": null,
   "id": "fb81686c",
   "metadata": {},
   "outputs": [],
   "source": []
  },
  {
   "cell_type": "code",
   "execution_count": null,
   "id": "d2d961e7",
   "metadata": {},
   "outputs": [],
   "source": []
  },
  {
   "cell_type": "code",
   "execution_count": null,
   "id": "bf108cfb",
   "metadata": {},
   "outputs": [],
   "source": []
  },
  {
   "cell_type": "code",
   "execution_count": null,
   "id": "06be20e4",
   "metadata": {},
   "outputs": [],
   "source": []
  },
  {
   "cell_type": "code",
   "execution_count": null,
   "id": "ee0b6711",
   "metadata": {},
   "outputs": [],
   "source": []
  }
 ],
 "metadata": {
  "kernelspec": {
   "display_name": "Python [conda env:jcopml]",
   "language": "python",
   "name": "conda-env-jcopml-py"
  },
  "language_info": {
   "codemirror_mode": {
    "name": "ipython",
    "version": 3
   },
   "file_extension": ".py",
   "mimetype": "text/x-python",
   "name": "python",
   "nbconvert_exporter": "python",
   "pygments_lexer": "ipython3",
   "version": "3.9.0"
  },
  "varInspector": {
   "cols": {
    "lenName": 16,
    "lenType": 16,
    "lenVar": 40
   },
   "kernels_config": {
    "python": {
     "delete_cmd_postfix": "",
     "delete_cmd_prefix": "del ",
     "library": "var_list.py",
     "varRefreshCmd": "print(var_dic_list())"
    },
    "r": {
     "delete_cmd_postfix": ") ",
     "delete_cmd_prefix": "rm(",
     "library": "var_list.r",
     "varRefreshCmd": "cat(var_dic_list()) "
    }
   },
   "types_to_exclude": [
    "module",
    "function",
    "builtin_function_or_method",
    "instance",
    "_Feature"
   ],
   "window_display": false
  }
 },
 "nbformat": 4,
 "nbformat_minor": 5
}
